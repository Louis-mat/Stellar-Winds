{
 "cells": [
  {
   "cell_type": "code",
   "execution_count": 2,
   "metadata": {},
   "outputs": [],
   "source": [
    "import numpy as np\n",
    "import math\n",
    "import matplotlib.pyplot as plt"
   ]
  },
  {
   "cell_type": "code",
   "execution_count": 3,
   "metadata": {},
   "outputs": [],
   "source": [
    "############# constants ############################\n",
    "G = 6.67 * 10**(-8)        ## [cm^3 / (g * s^2)]\n",
    "c = 3 * 10**10             ## [cm/s]\n",
    "M_sun = 1.989 * 10**33     ## [g]"
   ]
  },
  {
   "cell_type": "code",
   "execution_count": 4,
   "metadata": {},
   "outputs": [],
   "source": [
    "############# MESA OUTPUT ##########################\n",
    "file = \"C:/Users/Louis/OneDrive/Documenten/exercise/LOGS_16Msun/history.data\"\n",
    "matrix = np.genfromtxt(file, skip_header=5, names=True)\n",
    "Mass_List = matrix[\"star_mass\"]"
   ]
  },
  {
   "cell_type": "code",
   "execution_count": 6,
   "metadata": {},
   "outputs": [
    {
     "data": {
      "text/plain": [
       "6.0383108120419235"
      ]
     },
     "execution_count": 6,
     "metadata": {},
     "output_type": "execute_result"
    }
   ],
   "source": [
    "############# masses [g] #################################\n",
    "M_init = 16 * M_sun\n",
    "M_final = Mass_List[136] \n",
    "M_co = 5 * M_sun\n",
    "\n",
    "def mass_ratio(m1, m2):\n",
    "    return m1/m2;\n",
    "\n",
    "M_final"
   ]
  },
  {
   "cell_type": "code",
   "execution_count": 53,
   "metadata": {},
   "outputs": [],
   "source": [
    "############ orbital period [days] and separation [cm] ###\n",
    "P_init = 10\n",
    "\n",
    "def orbital_period(m1, m2, m3):\n",
    "    return P_init * ( (mass_ratio(m1, m3)+1)/(mass_ratio(m2, m3)+1) )**2;\n",
    "\n",
    "def orbital_separation(m1,m2,m3):\n",
    "    return np.cbrt( ( G * (m2 + m3) * (orbital_period(m1,m2,m3)*24*60*60)**2 ) / ( 4 * np.pi**2) );"
   ]
  },
  {
   "cell_type": "code",
   "execution_count": 54,
   "metadata": {},
   "outputs": [],
   "source": [
    "########### merging time [years] #########################\n",
    "def B(m1,m2):\n",
    "    return  (64 * G**3 * (m1 + m2) * m1 * m2) / (5 * c**5) ;\n",
    "\n",
    "def merging_time(m1,m2,m3):\n",
    "    return ( orbital_separation(m1,m2,m3)**4 ) / ( 4 * B(m2,m3) );"
   ]
  },
  {
   "cell_type": "code",
   "execution_count": 55,
   "metadata": {},
   "outputs": [],
   "source": [
    "##########################################################"
   ]
  },
  {
   "cell_type": "code",
   "execution_count": 57,
   "metadata": {},
   "outputs": [],
   "source": [
    "P = orbital_period(M_init, M_final, M_co)\n",
    "a = orbital_separation(M_init, M_final, M_co)\n",
    "t = merging_time(M_init, M_final, M_co)"
   ]
  },
  {
   "cell_type": "code",
   "execution_count": 58,
   "metadata": {},
   "outputs": [
    {
     "data": {
      "text/plain": [
       "(36.19373083452943, 7131801213840.719, 1.577841202527927e+21)"
      ]
     },
     "execution_count": 58,
     "metadata": {},
     "output_type": "execute_result"
    }
   ],
   "source": [
    "P,a,t"
   ]
  },
  {
   "cell_type": "code",
   "execution_count": null,
   "metadata": {},
   "outputs": [],
   "source": []
  }
 ],
 "metadata": {
  "kernelspec": {
   "display_name": "Python 3",
   "language": "python",
   "name": "python3"
  },
  "language_info": {
   "codemirror_mode": {
    "name": "ipython",
    "version": 3
   },
   "file_extension": ".py",
   "mimetype": "text/x-python",
   "name": "python",
   "nbconvert_exporter": "python",
   "pygments_lexer": "ipython3",
   "version": "3.7.4"
  }
 },
 "nbformat": 4,
 "nbformat_minor": 2
}
