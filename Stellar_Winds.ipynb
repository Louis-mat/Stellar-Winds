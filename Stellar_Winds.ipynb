{
 "cells": [
  {
   "cell_type": "code",
   "execution_count": 1,
   "metadata": {},
   "outputs": [],
   "source": [
    "import numpy as np\n",
    "import math\n",
    "import matplotlib.pyplot as plt"
   ]
  },
  {
   "cell_type": "code",
   "execution_count": 2,
   "metadata": {},
   "outputs": [],
   "source": [
    "## column == star_mass\n",
    "## file1=\"./LOGS1_745/history.data\"\n",
    "## matrix1=np.genfromtxt(file1,skip_header=5,names=True)\n",
    "## teff1=matrix1[\"log_Teff\"]"
   ]
  },
  {
   "cell_type": "code",
   "execution_count": 3,
   "metadata": {},
   "outputs": [],
   "source": [
    "file = \"C:/Users/Louis/OneDrive/Documenten/exercise/LOGS_16Msun/history.data\"\n",
    "matrix = np.genfromtxt(file, skip_header=5, names=True)\n",
    "teff = matrix[\"log_Teff\"]"
   ]
  },
  {
   "cell_type": "code",
   "execution_count": 18,
   "metadata": {},
   "outputs": [
    {
     "data": {
      "text/plain": [
       "9.961689187958076"
      ]
     },
     "execution_count": 18,
     "metadata": {},
     "output_type": "execute_result"
    }
   ],
   "source": [
    "## initial mass of the star and the CO in units of solar mass [M_sun]\n",
    "## final mass of the star in units of solar mass [M_sun]\n",
    "M_co = 5\n",
    "M_0 = 16\n",
    "M_1 = matrix[\"star_mass\"]\n",
    "M_f = M_0 - M_1[136]\n",
    "M_f"
   ]
  },
  {
   "cell_type": "code",
   "execution_count": 5,
   "metadata": {},
   "outputs": [],
   "source": [
    "## mass ratios \n",
    "q_0 = M_0/M_co \n",
    "q = M_f/M_co"
   ]
  },
  {
   "cell_type": "code",
   "execution_count": 6,
   "metadata": {},
   "outputs": [
    {
     "name": "stdout",
     "output_type": "stream",
     "text": [
      "1.9700503796229938 19.70050379622994\n"
     ]
    }
   ],
   "source": [
    "## initial orbital period in units of days\n",
    "## ratio of final orbital period and initial period\n",
    "## final orbital period\n",
    "P_0 = 10\n",
    "P_ratio = ((q_0 + 1)**2)/((q + 1)**2)\n",
    "P = P_0 * P_ratio\n",
    "print(P_ratio, P)"
   ]
  },
  {
   "cell_type": "code",
   "execution_count": 7,
   "metadata": {},
   "outputs": [],
   "source": [
    "## orbital period P --> orbital separation a\n",
    "## a = cbrt( ( G * (M_f + M_co) * P^2) / (4 * pi^2) ) [gram]\n",
    "G = 6.67 * 10**(-8) ## [cm^3 / (g * s^2)]\n",
    "M_sun = 1.989 * 10**33 ## [g]"
   ]
  },
  {
   "cell_type": "code",
   "execution_count": 8,
   "metadata": {},
   "outputs": [],
   "source": [
    "## converting units\n",
    "# P in seconds\n",
    "P_seconds = P * 24 * 60 * 60\n",
    "M_co_gram = M_co * M_sun\n",
    "M_f_gram = M_f * M_sun"
   ]
  },
  {
   "cell_type": "code",
   "execution_count": 9,
   "metadata": {},
   "outputs": [
    {
     "data": {
      "text/plain": [
       "5261641079366.359"
      ]
     },
     "execution_count": 9,
     "metadata": {},
     "output_type": "execute_result"
    }
   ],
   "source": [
    "a = np.cbrt( (G * (M_f_gram + M_co_gram) * P_seconds**2) / (4 * np.pi**2) )  \n",
    "a"
   ]
  },
  {
   "cell_type": "code",
   "execution_count": 10,
   "metadata": {},
   "outputs": [],
   "source": [
    "## merging time\n",
    "# t_merge = a^4 / ( 4 * B)\n",
    "# B = ( (64 * G^3 * (M_f + M_co) * M_f * M_co) / (5 * c^5) )\n",
    "c = 3 * 10**10 ## [cm/s]"
   ]
  },
  {
   "cell_type": "code",
   "execution_count": 11,
   "metadata": {},
   "outputs": [
    {
     "data": {
      "text/plain": [
       "2.090526703975737e+20"
      ]
     },
     "execution_count": 11,
     "metadata": {},
     "output_type": "execute_result"
    }
   ],
   "source": [
    "B = ( (64 * G**3 * (M_f_gram + M_co_gram) * M_f_gram * M_co_gram) / (5 * c**5) )\n",
    "t_merge = a**4 / (4 * B)\n",
    "t_Hubble = 14 * 10**9\n",
    "t_merge"
   ]
  },
  {
   "cell_type": "code",
   "execution_count": 12,
   "metadata": {},
   "outputs": [
    {
     "data": {
      "text/plain": [
       "(6629016691957.5625, 14000000000)"
      ]
     },
     "execution_count": 12,
     "metadata": {},
     "output_type": "execute_result"
    }
   ],
   "source": [
    "t_merge_yrs = t_merge / (60 * 60 * 24 * 365)\n",
    "t_merge_yrs, t_Hubble"
   ]
  },
  {
   "cell_type": "code",
   "execution_count": 13,
   "metadata": {},
   "outputs": [
    {
     "data": {
      "text/plain": [
       "-6615016691957.5625"
      ]
     },
     "execution_count": 13,
     "metadata": {},
     "output_type": "execute_result"
    }
   ],
   "source": [
    "t_Hubble - t_merge_yrs"
   ]
  },
  {
   "cell_type": "code",
   "execution_count": 14,
   "metadata": {},
   "outputs": [],
   "source": [
    "## no wind\n",
    "P_nw = P_0 * 24 * 60 * 60 ## [s]\n",
    "M_0_gram = M_0 * M_sun\n",
    "a_nw = np.cbrt( (G * (M_0_gram + M_co_gram) * P_nw**2) / (4 * np.pi**2) )\n",
    "B_nw = ( (64 * G**3 * (M_0_gram + M_co_gram) * M_0_gram * M_co_gram) / (5 * c**5) )\n",
    "t_merge_nw = a_nw**4 / (4 * B_nw)"
   ]
  },
  {
   "cell_type": "code",
   "execution_count": 15,
   "metadata": {},
   "outputs": [
    {
     "data": {
      "text/plain": [
       "2.389325912698308e+19"
      ]
     },
     "execution_count": 15,
     "metadata": {},
     "output_type": "execute_result"
    }
   ],
   "source": [
    "t_merge_nw"
   ]
  },
  {
   "cell_type": "code",
   "execution_count": 16,
   "metadata": {},
   "outputs": [],
   "source": [
    "t_merge_nw_yrs = t_merge_nw / (60 * 60 * 24 * 365)"
   ]
  },
  {
   "cell_type": "code",
   "execution_count": 17,
   "metadata": {},
   "outputs": [
    {
     "data": {
      "text/plain": [
       "743650276730.8181"
      ]
     },
     "execution_count": 17,
     "metadata": {},
     "output_type": "execute_result"
    }
   ],
   "source": [
    "t_merge_nw_yrs - t_Hubble"
   ]
  },
  {
   "cell_type": "code",
   "execution_count": 19,
   "metadata": {},
   "outputs": [
    {
     "data": {
      "text/plain": [
       "757.6502767308181"
      ]
     },
     "execution_count": 19,
     "metadata": {},
     "output_type": "execute_result"
    }
   ],
   "source": [
    "t_merge_nw_yrs/10**9"
   ]
  },
  {
   "cell_type": "code",
   "execution_count": 20,
   "metadata": {},
   "outputs": [
    {
     "data": {
      "text/plain": [
       "743.6502767308181"
      ]
     },
     "execution_count": 20,
     "metadata": {},
     "output_type": "execute_result"
    }
   ],
   "source": [
    "(t_merge_nw_yrs - t_Hubble)/10**9"
   ]
  },
  {
   "cell_type": "code",
   "execution_count": null,
   "metadata": {},
   "outputs": [],
   "source": []
  }
 ],
 "metadata": {
  "kernelspec": {
   "display_name": "Python 3",
   "language": "python",
   "name": "python3"
  },
  "language_info": {
   "codemirror_mode": {
    "name": "ipython",
    "version": 3
   },
   "file_extension": ".py",
   "mimetype": "text/x-python",
   "name": "python",
   "nbconvert_exporter": "python",
   "pygments_lexer": "ipython3",
   "version": "3.7.4"
  }
 },
 "nbformat": 4,
 "nbformat_minor": 2
}
